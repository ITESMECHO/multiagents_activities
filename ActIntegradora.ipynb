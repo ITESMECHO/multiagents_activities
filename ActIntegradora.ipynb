{
 "cells": [
  {
   "cell_type": "code",
   "execution_count": 3,
   "id": "5b69217e",
   "metadata": {},
   "outputs": [],
   "source": [
    "# Model design\n",
    "import agentpy as ap\n",
    "\n",
    "# Visualization\n",
    "import matplotlib.pyplot as plt\n",
    "import seaborn as sns\n",
    "import IPython\n",
    "import random\n",
    "import math"
   ]
  },
  {
   "cell_type": "code",
   "execution_count": 4,
   "id": "c96548b5",
   "metadata": {},
   "outputs": [],
   "source": [
    "\n",
    "class TraficLight(ap.Agent):\n",
    "    def setup(self):\n",
    "        self.state='green' #Manejar con green, yellow, red (todo en minusculas)\n",
    "        if self.id == 1: #Semaforo que ve hacia el norte \n",
    "            self.orientation=\"north\"\n",
    "            self.z=0\n",
    "            self.x=-1\n",
    "        elif self.id == 2:\n",
    "            self.orientation=\"south\"\n",
    "            self.z=0\n",
    "            self.x=1\n",
    "            \n",
    "    def getState(self):\n",
    "        return self.state\n",
    "    "
   ]
  },
  {
   "cell_type": "code",
   "execution_count": 5,
   "id": "2c956d47",
   "metadata": {},
   "outputs": [],
   "source": [
    "class Car(ap.Agent):\n",
    "    def setup(self):\n",
    "        #|| generamos un randint(1,2)\n",
    "        self.velocity=5\n",
    "        if self.id%2==0: #Carro que ve hacia el norte \n",
    "            self.orientation=\"north\"\n",
    "            self.x=1\n",
    "            self.z=-100 #Si cambia\n",
    "        else:\n",
    "            self.orientation=\"south\"\n",
    "            self.x=-1\n",
    "            self.z=100\n",
    "            \n",
    "    def getZ(self):\n",
    "        return self.z\n",
    "    \n",
    "    def move(self):\n",
    "        if self.orientation==\"north\":\n",
    "            self.z+=velocity\n",
    "        else:\n",
    "            self.z-=velocity"
   ]
  },
  {
   "cell_type": "code",
   "execution_count": null,
   "id": "2712bffb",
   "metadata": {},
   "outputs": [],
   "source": [
    "class CarManager(ap.Model): #\n",
    "    def setup(self):\n",
    "        self.cars = ap.AgentList(self, 2, Car)\n",
    "        self.stopSigns = ap.AgentList(self, 2, TraficLight)\n",
    "        \n",
    "#         self.lastMoves = self.agents.pos\n",
    "#         self.gamesData=[]\n",
    "#         self.lastWin = -1\n",
    "    \n",
    "    def step(self):\n",
    "        self.cars.move()\n",
    "#         self.agents.disparejo(self)\n",
    "#         gameRes = self.agents.getPosition()\n",
    "#         self.lastMove = self.agents.pos\n",
    "#         self.gamesData.append((unique(gameRes), gameRes))\n",
    "        \n",
    "#         if self.gamesData[-1][0][1] != -1:\n",
    "#             self.lastWin = self.gamesData[-1][0][1]\n",
    "        \n",
    "#    def update(self):\n",
    "#         self.record('Winner', unique(self.agents.pos)[0])\n",
    "#         self.record('WinningOption', unique(self.agents.pos)[1])\n",
    "#         self.record('Choices', self.agents.getPosition())\n",
    "        \n",
    "    def end(self):\n",
    "        self.step()\n",
    "        "
   ]
  }
 ],
 "metadata": {
  "kernelspec": {
   "display_name": "Python 3 (ipykernel)",
   "language": "python",
   "name": "python3"
  },
  "language_info": {
   "codemirror_mode": {
    "name": "ipython",
    "version": 3
   },
   "file_extension": ".py",
   "mimetype": "text/x-python",
   "name": "python",
   "nbconvert_exporter": "python",
   "pygments_lexer": "ipython3",
   "version": "3.9.7"
  }
 },
 "nbformat": 4,
 "nbformat_minor": 5
}
